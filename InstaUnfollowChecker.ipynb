# © 2025 Your Name
# InstaUnfollowChecker - Find who has unfollowed you on Instagram.
# This tool is 100% offline. No login needed. Your data stays private.
# Licensed under the MIT License. See LICENSE for details.

def read_file(filename):
    """Reads a text file and returns a set of cleaned lines."""
    with open(filename, 'r', encoding='utf-8') as file:
        return set(line.strip() for line in file if line.strip())

def check_unfollowers(followers_file, following_file):
    followers = read_file(followers_file)
    following = read_file(following_file)

    unfollowers = following - followers
    mutual = following & followers
    fans = followers - following

    print("✅ People who follow you back:")
    for user in sorted(mutual):
        print(f"  - {user}")

    print(f"\n❌ People you follow but they don't follow you back (Unfollowers): {len(unfollowers)}")
    for user in sorted(unfollowers):
        print(f"  - {user}")

    print(f"\n🧲 People who follow you but you don’t follow back (Fans): {len(fans)}")
    for user in sorted(fans):
        print(f"  - {user}")

# 🔽 Update these file names with your actual files
followers_file = 'followers.txt'
following_file = 'following.txt'

check_unfollowers(followers_file, following_file)
